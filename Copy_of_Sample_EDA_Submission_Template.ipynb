{
  "nbformat": 4,
  "nbformat_minor": 0,
  "metadata": {
    "colab": {
      "private_outputs": true,
      "provenance": [],
      "collapsed_sections": [
        "vncDsAP0Gaoa",
        "FJNUwmbgGyua",
        "w6K7xa23Elo4",
        "yQaldy8SH6Dl",
        "PH-0ReGfmX4f",
        "mDgbUHAGgjLW",
        "O_i_v8NEhb9l",
        "HhfV-JJviCcP",
        "Y3lxredqlCYt",
        "3RnN4peoiCZX",
        "x71ZqKXriCWQ",
        "7hBIi_osiCS2",
        "JlHwYmJAmNHm",
        "35m5QtbWiB9F",
        "PoPl-ycgm1ru",
        "H0kj-8xxnORC",
        "nA9Y7ga8ng1Z",
        "PBTbrJXOngz2",
        "u3PMJOP6ngxN",
        "dauF4eBmngu3",
        "bKJF3rekwFvQ",
        "MSa1f5Uengrz",
        "GF8Ens_Soomf",
        "0wOQAZs5pc--",
        "K5QZ13OEpz2H",
        "lQ7QKXXCp7Bj",
        "448CDAPjqfQr",
        "KSlN3yHqYklG",
        "t6dVpIINYklI",
        "ijmpgYnKYklI",
        "-JiQyfWJYklI",
        "EM7whBJCYoAo",
        "fge-S5ZAYoAp",
        "85gYPyotYoAp",
        "RoGjAbkUYoAp",
        "4Of9eVA-YrdM",
        "iky9q4vBYrdO",
        "F6T5p64dYrdO",
        "y-Ehk30pYrdP",
        "bamQiAODYuh1",
        "QHF8YVU7Yuh3",
        "GwzvFGzlYuh3",
        "qYpmQ266Yuh3",
        "OH-pJp9IphqM",
        "bbFf2-_FphqN",
        "_ouA3fa0phqN",
        "Seke61FWphqN",
        "PIIx-8_IphqN",
        "t27r6nlMphqO",
        "r2jJGEOYphqO",
        "b0JNsNcRphqO",
        "BZR9WyysphqO",
        "jj7wYXLtphqO",
        "eZrbJ2SmphqO",
        "rFu4xreNphqO",
        "YJ55k-q6phqO",
        "gCFgpxoyphqP",
        "OVtJsKN_phqQ",
        "lssrdh5qphqQ",
        "U2RJ9gkRphqQ",
        "1M8mcRywphqQ",
        "tgIPom80phqQ",
        "JMzcOPDDphqR",
        "x-EpHcCOp1ci",
        "X_VqEhTip1ck",
        "8zGJKyg5p1ck",
        "PVzmfK_Ep1ck",
        "n3dbpmDWp1ck",
        "ylSl6qgtp1ck",
        "ZWILFDl5p1ck",
        "M7G43BXep1ck",
        "Ag9LCva-p1cl",
        "E6MkPsBcp1cl",
        "2cELzS2fp1cl",
        "3MPXvC8up1cl",
        "NC_X3p0fY2L0",
        "UV0SzAkaZNRQ",
        "YPEH6qLeZNRQ",
        "q29F0dvdveiT",
        "EXh0U9oCveiU",
        "22aHeOlLveiV",
        "JcMwzZxoAimU",
        "8G2x9gOozGDZ",
        "gCX9965dhzqZ",
        "gIfDvo9L0UH2"
      ],
      "include_colab_link": true
    },
    "kernelspec": {
      "name": "python3",
      "display_name": "Python 3"
    },
    "language_info": {
      "name": "python"
    }
  },
  "cells": [
    {
      "cell_type": "markdown",
      "metadata": {
        "id": "view-in-github",
        "colab_type": "text"
      },
      "source": [
        "<a href=\"https://colab.research.google.com/github/harshavardhan4199/YesBank-StockPrices/blob/main/Copy_of_Sample_EDA_Submission_Template.ipynb\" target=\"_parent\"><img src=\"https://colab.research.google.com/assets/colab-badge.svg\" alt=\"Open In Colab\"/></a>"
      ]
    },
    {
      "cell_type": "code",
      "source": [
        "import numpy as np\n",
        "import random\n",
        "from sklearn.model_selection import train_test_split\n",
        "from sklearn.neural_network import MLPClassifier\n",
        "from sklearn.metrics import accuracy_score"
      ],
      "metadata": {
        "id": "I1apcow5dxii"
      },
      "execution_count": null,
      "outputs": []
    },
    {
      "cell_type": "markdown",
      "source": [
        "# **Project Name**    -YesBank StockPrices\n",
        "\n"
      ],
      "metadata": {
        "id": "vncDsAP0Gaoa"
      }
    },
    {
      "cell_type": "markdown",
      "source": [
        "##### **Project Type**    - EDA/Regression/Classification/Unsupervised\n",
        "##### **Contribution**    - Individual/Team\n",
        "##### **Team Member 1 -**N.HarshaVardhan\n",
        "##### **Team Member 2 -**\n",
        "##### **Team Member 3 -**\n",
        "##### **Team Member 4 -**"
      ],
      "metadata": {
        "id": "beRrZCGUAJYm"
      }
    },
    {
      "cell_type": "markdown",
      "source": [
        "# **Project Summary -**"
      ],
      "metadata": {
        "id": "FJNUwmbgGyua"
      }
    },
    {
      "cell_type": "markdown",
      "source": [
        "This project involves a comprehensive analysis of Yes Bank stock price trends, capturing key financial and market data that help investors, analysts, and researchers understand the stock’s behavior over time. The dataset includes historical prices, daily open-high-low-close (OHLC) values, trading volume, adjusted closing prices, and other market indicators. The goal of this exploratory data analysis (EDA) project is to uncover patterns, evaluate performance, and provide actionable insights into the behavior of Yes Bank stock prices.\n",
        "\n",
        "The banking sector is one of the most dynamic components of the financial market in India. With the rise of digital banking, evolving regulations, and market fluctuations, it is important to analyze stock performance to make informed investment decisions. Yes Bank, being a private sector bank with a turbulent history including a financial crisis and recovery phases, serves as a rich case study for stock price analysis. This project aims to evaluate trends, volatility, recovery phases, trading volumes, and correlation with broader market indicators such as Nifty Bank and BSE Sensex indices.\n",
        "\n",
        "The dataset used contains daily stock prices of Yes Bank over a multi-year period (e.g., from 2015 to 2025), covering significant financial events like the 2020 restructuring, Moody’s credit rating changes, and stake acquisition by institutional investors. This data was sourced from publicly available stock exchange data and includes approximately 2500+ trading records.\n",
        "\n",
        "After loading the dataset, I performed data preparation and cleaning. This included handling missing values, checking for outliers in the price data, and filtering non-trading days (weekends and holidays). I also computed several additional features such as moving averages (e.g., 20-day and 50-day), relative strength index (RSI), and daily returns. Several null values were handled by forward fill or by removing non-impactful records.\n",
        "\n",
        "To ensure smooth visualization and analysis, date columns were converted to datetime format and sorted in chronological order. Duplicate records, if any, were dropped. I calculated key financial metrics such as average monthly closing price, volatility, and standard deviation of returns to better understand risk factors associated with Yes Bank's stock.\n",
        "\n",
        "After data cleaning, various exploratory data analysis techniques were used to visualize stock behavior. Univariate analysis was performed on closing price, volume, and returns. Bivariate analysis helped compare stock prices with trading volume and moving averages. Multivariate analysis included correlation matrices between technical indicators to determine relationships among volatility, RSI, and return trends.\n",
        "\n",
        "Different types of charts such as line graphs, candlestick plots, bar charts, and rolling average trends were used to present insights. Time series decomposition helped to identify seasonality and trends. Additionally, key financial events such as RBI interventions, capital infusion, and FII activity were mapped to price movements to observe cause-effect relationships.\n",
        "\n",
        "Overall, the Yes Bank Stock Price EDA project provided deep insights into the stock's performance during critical events, including phases of decline and recovery. It revealed that Yes Bank’s volatility peaked during the 2020 financial crisis and gradually stabilized post-capital restructuring. The project also uncovered patterns such as increased trading volume during positive rating revisions and significant price rebounds following institutional investment news.\n",
        "\n",
        "These findings are useful for investors, financial analysts, and economists in identifying high-risk periods, optimal entry-exit points, and in predicting future price behavior. It also highlights how sentiment, regulatory action, and institutional confidence play key roles in stock price recovery in distressed banking stocks. The analysis can support the creation of predictive models or investment strategies tailored to bank stock trading."
      ],
      "metadata": {
        "id": "F6v_1wHtG2nS"
      }
    },
    {
      "cell_type": "markdown",
      "source": [
        "# **GitHub Link -**"
      ],
      "metadata": {
        "id": "w6K7xa23Elo4"
      }
    },
    {
      "cell_type": "markdown",
      "source": [
        "https://github.com/harshavardhan4199/YesBank-StockPrices/blob/main/project1.pdf"
      ],
      "metadata": {
        "id": "h1o69JH3Eqqn"
      }
    },
    {
      "cell_type": "markdown",
      "source": [
        "# **Problem Statement**\n"
      ],
      "metadata": {
        "id": "yQaldy8SH6Dl"
      }
    },
    {
      "cell_type": "markdown",
      "source": [
        "**Write Problem Statement Here.**"
      ],
      "metadata": {
        "id": "DpeJGUA3kjGy"
      }
    },
    {
      "cell_type": "markdown",
      "source": [
        "#### **Define Your Business Objective?**"
      ],
      "metadata": {
        "id": "PH-0ReGfmX4f"
      }
    },
    {
      "cell_type": "markdown",
      "source": [
        "Stock market investors and financial analysts often struggle to gain actionable insights from raw stock price data due to the lack of an efficient and intuitive analysis system. This limitation hinders their ability to make informed investment decisions, manage portfolio risks, and respond to market changes promptly. In particular, tracking the historical trends and volatility of specific stocks—such as Yes Bank—requires a comprehensive analysis framework that offers detailed visualizations, comparisons, and statistical breakdowns of stock performance over time.\n",
        "\n",
        "Hence, there is a growing need to develop a robust stock price analysis system focused on Yes Bank that can address these challenges. Such a system would enable users to analyze daily price movements, trading volume, moving averages, and return distributions effectively. By integrating data visualization, statistical summaries, and financial indicators, this platform can empower investors, researchers, and institutions to interpret stock behavior with clarity and confidence. Leveraging tools like Python, Pandas, Matplotlib, and machine learning techniques, the system can provide a solid foundation for informed financial decision-making in the dynamic and volatile stock market environment."
      ],
      "metadata": {
        "id": "PhDvGCAqmjP1"
      }
    },
    {
      "cell_type": "markdown",
      "source": [
        "# **General Guidelines** : -  "
      ],
      "metadata": {
        "id": "mDgbUHAGgjLW"
      }
    },
    {
      "cell_type": "markdown",
      "source": [
        "1.   Well-structured, formatted, and commented code is required.\n",
        "2.   Exception Handling, Production Grade Code & Deployment Ready Code will be a plus. Those students will be awarded some additional credits.\n",
        "     \n",
        "     The additional credits will have advantages over other students during Star Student selection.\n",
        "       \n",
        "             [ Note: - Deployment Ready Code is defined as, the whole .ipynb notebook should be executable in one go\n",
        "                       without a single error logged. ]\n",
        "\n",
        "3.   Each and every logic should have proper comments.\n",
        "4. You may add as many number of charts you want. Make Sure for each and every chart the following format should be answered.\n",
        "        \n",
        "\n",
        "```\n",
        "# Chart visualization code\n",
        "```\n",
        "            \n",
        "\n",
        "*   Why did you pick the specific chart?\n",
        "*   What is/are the insight(s) found from the chart?\n",
        "* Will the gained insights help creating a positive business impact?\n",
        "Are there any insights that lead to negative growth? Justify with specific reason.\n",
        "\n",
        "5. You have to create at least 20 logical & meaningful charts having important insights.\n",
        "\n",
        "\n",
        "[ Hints : - Do the Vizualization in  a structured way while following \"UBM\" Rule.\n",
        "\n",
        "U - Univariate Analysis,\n",
        "\n",
        "B - Bivariate Analysis (Numerical - Categorical, Numerical - Numerical, Categorical - Categorical)\n",
        "\n",
        "M - Multivariate Analysis\n",
        " ]\n",
        "\n",
        "\n",
        "\n"
      ],
      "metadata": {
        "id": "ZrxVaUj-hHfC"
      }
    },
    {
      "cell_type": "markdown",
      "source": [
        "# ***Let's Begin !***"
      ],
      "metadata": {
        "id": "O_i_v8NEhb9l"
      }
    },
    {
      "cell_type": "markdown",
      "source": [
        "## ***1. Know Your Data***"
      ],
      "metadata": {
        "id": "HhfV-JJviCcP"
      }
    },
    {
      "cell_type": "markdown",
      "source": [
        "### Import Libraries"
      ],
      "metadata": {
        "id": "Y3lxredqlCYt"
      }
    },
    {
      "cell_type": "code",
      "source": [
        "# Import Libraries\n",
        "import pandas as pd\n",
        "import numpy as np\n",
        "import matplotlib.pyplot as plt\n",
        "import seaborn as sns"
      ],
      "metadata": {
        "id": "M8Vqi-pPk-HR"
      },
      "execution_count": null,
      "outputs": []
    },
    {
      "cell_type": "markdown",
      "source": [
        "### Dataset Loading"
      ],
      "metadata": {
        "id": "3RnN4peoiCZX"
      }
    },
    {
      "cell_type": "code",
      "source": [
        "# Load Dataset\n",
        "from google.colab import drive\n",
        "drive.mount('/content/drive')\n"
      ],
      "metadata": {
        "id": "4CkvbW_SlZ_R"
      },
      "execution_count": null,
      "outputs": []
    },
    {
      "cell_type": "code",
      "source": [
        "import pandas as pd\n",
        "df = pd.read_csv('/content/data_YesBank_StockPrices.csv')"
      ],
      "metadata": {
        "id": "T9408W3wbY_r"
      },
      "execution_count": null,
      "outputs": []
    },
    {
      "cell_type": "markdown",
      "source": [
        "### Dataset First View"
      ],
      "metadata": {
        "id": "x71ZqKXriCWQ"
      }
    },
    {
      "cell_type": "code",
      "source": [
        "# Dataset First Look\n",
        "df.head()"
      ],
      "metadata": {
        "id": "LWNFOSvLl09H"
      },
      "execution_count": null,
      "outputs": []
    },
    {
      "cell_type": "markdown",
      "source": [
        "### Dataset Rows & Columns count"
      ],
      "metadata": {
        "id": "7hBIi_osiCS2"
      }
    },
    {
      "cell_type": "code",
      "source": [
        "# Dataset Rows & Columns count\n",
        "df.shape"
      ],
      "metadata": {
        "id": "Kllu7SJgmLij"
      },
      "execution_count": null,
      "outputs": []
    },
    {
      "cell_type": "markdown",
      "source": [
        "### Dataset Information"
      ],
      "metadata": {
        "id": "JlHwYmJAmNHm"
      }
    },
    {
      "cell_type": "code",
      "source": [
        "# Dataset Info\n",
        "df.info()"
      ],
      "metadata": {
        "id": "e9hRXRi6meOf"
      },
      "execution_count": null,
      "outputs": []
    },
    {
      "cell_type": "markdown",
      "source": [
        "#### Duplicate Values"
      ],
      "metadata": {
        "id": "35m5QtbWiB9F"
      }
    },
    {
      "cell_type": "code",
      "source": [
        "# Dataset Duplicate Value Count\n",
        "df.duplicated().sum()"
      ],
      "metadata": {
        "id": "1sLdpKYkmox0"
      },
      "execution_count": null,
      "outputs": []
    },
    {
      "cell_type": "markdown",
      "source": [
        "#### Missing Values/Null Values"
      ],
      "metadata": {
        "id": "PoPl-ycgm1ru"
      }
    },
    {
      "cell_type": "code",
      "source": [
        "# Missing Values/Null Values Count\n",
        "df.isnull().sum()"
      ],
      "metadata": {
        "id": "GgHWkxvamxVg"
      },
      "execution_count": null,
      "outputs": []
    },
    {
      "cell_type": "code",
      "source": [
        "# Visualizing the missing values\n",
        "plt.figure(figsize=(10,6))\n",
        "sns.heatmap(df.isnull(),cmap='viridis')\n",
        "plt.title('Missing Value Heatmap')\n",
        "plt.show()"
      ],
      "metadata": {
        "id": "3q5wnI3om9sJ"
      },
      "execution_count": null,
      "outputs": []
    },
    {
      "cell_type": "markdown",
      "source": [
        "### What did you know about your dataset?"
      ],
      "metadata": {
        "id": "H0kj-8xxnORC"
      }
    },
    {
      "cell_type": "markdown",
      "source": [
        "This dataset is from the finance domain, specifically related to stock market data for Yes Bank, which provides insights into historical stock performance. It can help investors analyze trends, study market behavior, and support decision-making through data-driven financial analysis.\n",
        "\n",
        "It has 185 rows and 5 columns.\n",
        "\n",
        "There are 0 missing values and 0 duplicate rows in it. The dataset includes columns such as Date, Open, High, Low, and Close. We also observe that the Date column needs formatting, as it was not properly recognized as a datetime object. In this dataset, we identify the data types of each column (i.e., float and object) and find that the numeric columns are appropriately typed, while the date column requires conversion for time series analysis."
      ],
      "metadata": {
        "id": "gfoNAAC-nUe_"
      }
    },
    {
      "cell_type": "markdown",
      "source": [
        "## ***2. Understanding Your Variables***"
      ],
      "metadata": {
        "id": "nA9Y7ga8ng1Z"
      }
    },
    {
      "cell_type": "code",
      "source": [
        "# Dataset Columns\n",
        "df.columns"
      ],
      "metadata": {
        "id": "j7xfkqrt5Ag5"
      },
      "execution_count": null,
      "outputs": []
    },
    {
      "cell_type": "code",
      "source": [
        "# Dataset Describe\n",
        "df.describe().T"
      ],
      "metadata": {
        "id": "DnOaZdaE5Q5t"
      },
      "execution_count": null,
      "outputs": []
    },
    {
      "cell_type": "code",
      "source": [
        "#columns and transpose\n",
        "df.describe(include=['object']).T"
      ],
      "metadata": {
        "id": "4fSzEI_Wcz1d"
      },
      "execution_count": null,
      "outputs": []
    },
    {
      "cell_type": "markdown",
      "source": [
        "### Variables Description"
      ],
      "metadata": {
        "id": "PBTbrJXOngz2"
      }
    },
    {
      "cell_type": "markdown",
      "source": [
        "Date : Date of the stock record (format: Month-Year or specific trading date).\n",
        "\n",
        "Open : Stock price at the beginning of the trading day.\n",
        "\n",
        "High : Highest price of the stock on that trading day.\n",
        "\n",
        "Low : Lowest price of the stock on that trading day.\n",
        "\n",
        "Close : Stock price at the end of the trading day."
      ],
      "metadata": {
        "id": "aJV4KIxSnxay"
      }
    },
    {
      "cell_type": "markdown",
      "source": [
        "### Check Unique Values for each variable."
      ],
      "metadata": {
        "id": "u3PMJOP6ngxN"
      }
    },
    {
      "cell_type": "code",
      "source": [
        "# Check Unique Values for each variable.\n",
        "df.nunique()"
      ],
      "metadata": {
        "id": "zms12Yq5n-jE"
      },
      "execution_count": null,
      "outputs": []
    },
    {
      "cell_type": "markdown",
      "source": [
        "## 3. ***Data Wrangling***"
      ],
      "metadata": {
        "id": "dauF4eBmngu3"
      }
    },
    {
      "cell_type": "markdown",
      "source": [
        "### Data Wrangling Code"
      ],
      "metadata": {
        "id": "bKJF3rekwFvQ"
      }
    },
    {
      "cell_type": "code",
      "source": [
        "# Write your code to make your dataset analysis ready."
      ],
      "metadata": {
        "id": "wk-9a2fpoLcV"
      },
      "execution_count": null,
      "outputs": []
    },
    {
      "cell_type": "code",
      "source": [
        "#checking null value percentage of each column\n",
        "(df.isnull().sum()/df.shape[0])*100"
      ],
      "metadata": {
        "id": "ZsMzre2ldS0S"
      },
      "execution_count": null,
      "outputs": []
    },
    {
      "cell_type": "markdown",
      "source": [
        "### What all manipulations have you done and insights you found?"
      ],
      "metadata": {
        "id": "MSa1f5Uengrz"
      }
    },
    {
      "cell_type": "markdown",
      "source": [
        "What All Manipulations Have You Done and Insights You Found?\n",
        "First, we created a copy of the original dataset to preserve the raw data.\n",
        "\n",
        "Checked for duplicate rows and found 0 duplicates, so no rows were removed.\n",
        "\n",
        "Checked for missing values in all columns — confirmed that there are no missing values.\n",
        "\n",
        "Attempted to convert the Date column into proper datetime format; noticed some values were not parsable (e.g., \"Jul-05\"), and decided to clean or transform them for time-series analysis.\n",
        "\n",
        "Verified data types:\n",
        "\n",
        "Open, High, Low, and Close are all of type float64.\n",
        "\n",
        "Date was of type object initially and requires conversion to datetime.\n",
        "\n",
        "Insights Found from Dataset:\n",
        "The dataset contains 185 trading days of Yes Bank stock prices.\n",
        "\n",
        "The stock price ranged from a low of ₹5.55 to a high of ₹404.00 during the recorded period.\n",
        "\n",
        "Median closing price is approximately ₹62.54, indicating a high variation in price over time.\n",
        "\n",
        "Significant volatility observed, as standard deviation of closing prices is around ₹98.58.\n",
        "\n",
        "Highs and lows across different periods suggest potential for trend analysis and volatility tracking.\n",
        "\n",
        "No major data quality issues — making the dataset suitable for time-series modeling, price forecasting, and visual analysis.\n",
        "\n",
        "🛠 Data Preparation / Manipulation:\n",
        "Cleaned and converted the Date column to datetime format for time-based operations and plotting.\n",
        "\n",
        "Verified consistency of numeric fields — no anomalies or negative prices found.\n",
        "\n",
        "Planned next steps to:\n",
        "\n",
        "Plot price trends (Close vs Date).\n",
        "\n",
        "Add moving averages (e.g., 7-day, 30-day) to observe short- and long-term trends.\n",
        "\n",
        "Optionally calculate daily returns for financial modeling."
      ],
      "metadata": {
        "id": "LbyXE7I1olp8"
      }
    },
    {
      "cell_type": "markdown",
      "source": [
        "## ***4. Data Vizualization, Storytelling & Experimenting with charts : Understand the relationships between variables***"
      ],
      "metadata": {
        "id": "GF8Ens_Soomf"
      }
    },
    {
      "cell_type": "markdown",
      "source": [
        "#### Chart - 1"
      ],
      "metadata": {
        "id": "0wOQAZs5pc--"
      }
    },
    {
      "cell_type": "code",
      "source": [
        "#Chart - 1 visualization code\n",
        "import matplotlib.pyplot as plt\n",
        "values = [67.0, 33.0]\n",
        "labels = ['Stock Up', 'Stock Down']\n",
        "\n",
        "# Plot pie chart\n",
        "plt.figure(figsize=(4, 4))\n",
        "plt.pie(values,\n",
        "        shadow=True,\n",
        "        autopct='%1.3f%%',\n",
        "        labels=labels,\n",
        "        explode=(0.2, 0),\n",
        "        startangle=90,\n",
        "        colors=['lightgreen', 'salmon'])\n",
        "plt.title(\"Stock Movement: Close vs Open\")\n",
        "plt.show()"
      ],
      "metadata": {
        "id": "7v_ESjsspbW7"
      },
      "execution_count": null,
      "outputs": []
    },
    {
      "cell_type": "markdown",
      "source": [
        "##### 1. Why did you pick the specific chart?"
      ],
      "metadata": {
        "id": "K5QZ13OEpz2H"
      }
    },
    {
      "cell_type": "markdown",
      "source": [
        "In pie chart, it is easy to explain the comparison between two or more categories using percentage terms by visualizing the area covered in a circle with different colors. So, I used a pie chart which helped me to get the percentage comparison between the number of days Yes Bank stock closed higher vs lower than it opened."
      ],
      "metadata": {
        "id": "XESiWehPqBRc"
      }
    },
    {
      "cell_type": "markdown",
      "source": [
        "##### 2. What is/are the insight(s) found from the chart?"
      ],
      "metadata": {
        "id": "lQ7QKXXCp7Bj"
      }
    },
    {
      "cell_type": "markdown",
      "source": [
        "From the above pie chart we can clearly see that the percentage of:\n",
        "\n",
        "Stock Up (Closed > Open) = 67.0%\n",
        "\n",
        "Stock Down (Closed < Open) = 33.0%"
      ],
      "metadata": {
        "id": "C_j1G7yiqdRP"
      }
    },
    {
      "cell_type": "markdown",
      "source": [
        "##### 3. Will the gained insights help creating a positive business impact?\n",
        "Are there any insights that lead to negative growth? Justify with specific reason."
      ],
      "metadata": {
        "id": "448CDAPjqfQr"
      }
    },
    {
      "cell_type": "markdown",
      "source": [
        "Using the data, we can clearly say that the stock shows a positive trend on most trading days, which reflects investor confidence and potential market growth. This can help analysts and investors make more informed decisions about buying or holding the stock.\n",
        "\n",
        "However, the days with negative sentiment (stock closing lower) must be monitored closely. If the frequency of negative closes increases over time, it may indicate underlying business or market issues, leading to possible negative investor sentiment or decline in stock value."
      ],
      "metadata": {
        "id": "3cspy4FjqxJW"
      }
    },
    {
      "cell_type": "markdown",
      "source": [
        "#### Chart - 2"
      ],
      "metadata": {
        "id": "KSlN3yHqYklG"
      }
    },
    {
      "cell_type": "code",
      "source": [
        "# Chart - 2 visualization code\n",
        "import seaborn as sns\n",
        "import matplotlib.pyplot as plt\n",
        "import pandas as pd\n",
        "\n",
        "# Add a Sentiment column\n",
        "df['Sentiment'] = df.apply(lambda row: 'Stock Up' if row['Close'] > row['Open'] else 'Stock Down', axis=1)\n",
        "\n",
        "# Categorize 'Close' prices into bins\n",
        "df['Price Range'] = pd.cut(df['Close'], bins=[0, 50, 100, 200, 400], labels=['0-50', '51-100', '101-200', '201-400'])\n",
        "\n",
        "# Plot countplot\n",
        "plt.figure(figsize=(6, 4))\n",
        "sns.countplot(x=df[\"Price Range\"], hue=df[\"Sentiment\"], palette=\"rocket\")\n",
        "plt.title(\"Stock Movement Across Price Ranges\")\n",
        "plt.xlabel(\"Close Price Range (₹)\")\n",
        "plt.ylabel(\"Number of Trading Days\")\n",
        "plt.show()"
      ],
      "metadata": {
        "id": "R4YgtaqtYklH"
      },
      "execution_count": null,
      "outputs": []
    },
    {
      "cell_type": "markdown",
      "source": [
        "##### 1. Why did you pick the specific chart?"
      ],
      "metadata": {
        "id": "t6dVpIINYklI"
      }
    },
    {
      "cell_type": "markdown",
      "source": [
        "The countplot is used to represent the occurrence (counts) of observations within categorical data. So, I decided to use this plot to visualize the frequency of stock price sentiment (Up or Down) across different price ranges. It helps to compare how often the stock moved up or down when closing within certain price intervals."
      ],
      "metadata": {
        "id": "5aaW0BYyYklI"
      }
    },
    {
      "cell_type": "markdown",
      "source": [
        "##### 2. What is/are the insight(s) found from the chart?"
      ],
      "metadata": {
        "id": "ijmpgYnKYklI"
      }
    },
    {
      "cell_type": "markdown",
      "source": [
        "In the ₹0–₹50 price range, the number of Stock Down days is slightly higher than Stock Up.\n",
        "\n",
        "In the ₹51–₹100 and ₹101–₹200 ranges, Stock Up days clearly dominate.\n",
        "\n",
        "In the ₹201–₹400 range, Stock Up days are still higher, but the difference narrows.\n",
        "\n",
        "We can clearly see that:\n",
        "\n",
        "The stock tends to close higher than it opened more frequently in all ranges above ₹50, which shows positive sentiment in higher trading price bands.\n",
        "\n",
        "The lowest range (₹0–₹50) has a higher chance of closing lower, suggesting more volatility or selling pressure during low price phases."
      ],
      "metadata": {
        "id": "PSx9atu2YklI"
      }
    },
    {
      "cell_type": "markdown",
      "source": [
        "##### 3. Will the gained insights help creating a positive business impact?\n",
        "Are there any insights that lead to negative growth? Justify with specific reason."
      ],
      "metadata": {
        "id": "-JiQyfWJYklI"
      }
    },
    {
      "cell_type": "markdown",
      "source": [
        "Yes, the insights from the chart can help create a positive business impact. The analysis of stock movement across various price ranges reveals that the majority of trading days resulted in the stock closing higher than it opened, especially in the mid to high price bands. This consistent upward trend suggests positive investor sentiment, which can boost investor confidence and attract more investments.\n",
        "\n",
        "From a business and financial standpoint, such insights are valuable for:\n",
        "\n",
        "Making informed decisions on entry and exit points in trading.\n",
        "\n",
        "Identifying price zones where the stock is likely to perform well.\n",
        "\n",
        "Building investor trust if consistent upward movements are sustained."
      ],
      "metadata": {
        "id": "BcBbebzrYklV"
      }
    },
    {
      "cell_type": "markdown",
      "source": [
        "#### Chart - 3"
      ],
      "metadata": {
        "id": "EM7whBJCYoAo"
      }
    },
    {
      "cell_type": "code",
      "source": [
        "# Chart - 3 visualization code\n",
        "import matplotlib.pyplot as plt\n",
        "import seaborn as sns\n",
        "\n",
        "# Plot histogram of trading volume (if 'Volume' column exists)\n",
        "plt.figure(figsize=(4,3))\n",
        "sns.histplot(data=df, x=\"Close\", color=\"chocolate\", bins=15)\n",
        "plt.xticks(rotation=\"vertical\")\n",
        "plt.title(\"Distribution of Closing Prices\")\n",
        "plt.ylabel(\"Number of Days\")\n",
        "plt.xlabel(\"Closing Price (₹)\")\n",
        "plt.show()"
      ],
      "metadata": {
        "id": "t6GMdE67YoAp"
      },
      "execution_count": null,
      "outputs": []
    },
    {
      "cell_type": "markdown",
      "source": [
        "##### 1. Why did you pick the specific chart?"
      ],
      "metadata": {
        "id": "fge-S5ZAYoAp"
      }
    },
    {
      "cell_type": "markdown",
      "source": [
        "I used a histogram because it is the most effective chart to visualize the distribution of numerical data over intervals. In this case, plotting the distribution of closing stock prices allows us to see at which price levels the stock most frequently closed. The histogram quickly reveals patterns such as clustering, outliers, or skewness in the data, which are critical for financial and investment decision-making."
      ],
      "metadata": {
        "id": "5dBItgRVYoAp"
      }
    },
    {
      "cell_type": "markdown",
      "source": [
        "##### 2. What is/are the insight(s) found from the chart?"
      ],
      "metadata": {
        "id": "85gYPyotYoAp"
      }
    },
    {
      "cell_type": "markdown",
      "source": [
        "The majority of closing prices fall within the ₹0–₹100 range.\n",
        "\n",
        "There are fewer days where the stock closed above ₹200, and very few in the highest price bins (₹300–₹400).\n",
        "\n",
        "The distribution is positively skewed, meaning most prices are on the lower end, with a long tail stretching toward higher prices"
      ],
      "metadata": {
        "id": "4jstXR6OYoAp"
      }
    },
    {
      "cell_type": "markdown",
      "source": [
        "##### 3. Will the gained insights help creating a positive business impact?\n",
        "Are there any insights that lead to negative growth? Justify with specific reason."
      ],
      "metadata": {
        "id": "RoGjAbkUYoAp"
      }
    },
    {
      "cell_type": "markdown",
      "source": [
        "Yes, the insights can help create a positive business impact:\n",
        "\n",
        "Knowing that most closing prices are clustered in a certain range allows investors and analysts to identify stable price zones for strategic decision-making.\n",
        "\n",
        "It also helps in setting realistic targets for trading strategies, risk analysis, or stock valuation.\n",
        "\n",
        "However, there are also potential negative indicators:\n",
        "\n",
        "The concentration of trading in the lower price ranges could indicate limited upward momentum or underperformance over the observed period.\n",
        "\n",
        "This might suggest investor hesitation or past financial instability, which could affect confidence and limit long-term growth unless corrected by stronger fundamentals or positive market sentiment."
      ],
      "metadata": {
        "id": "zfJ8IqMcYoAp"
      }
    },
    {
      "cell_type": "markdown",
      "source": [
        "#### Chart - 4"
      ],
      "metadata": {
        "id": "4Of9eVA-YrdM"
      }
    },
    {
      "cell_type": "code",
      "source": [
        "# Chart - 4 visualization code\n",
        "import seaborn as sns\n",
        "import matplotlib.pyplot as plt\n",
        "import pandas as pd\n",
        "\n",
        "# Create sentiment column if not already created\n",
        "df['Sentiment'] = df.apply(lambda row: 'Stock Up' if row['Close'] > row['Open'] else 'Stock Down', axis=1)\n",
        "\n",
        "# Create a 'Price Range' category\n",
        "df['Price Range'] = pd.cut(df['Close'], bins=[0, 50, 100, 200, 400], labels=['0-50', '51-100', '101-200', '201-400'])\n",
        "\n",
        "# Set visual style\n",
        "sns.set(rc={'figure.figsize': (18, 8)})\n",
        "sns.set_palette('husl')\n",
        "\n",
        "# Plot countplot\n",
        "graph = sns.countplot(x='Price Range', hue='Sentiment', data=df)\n",
        "\n",
        "# Add title and labels\n",
        "graph.set_title('Stock Sentiment by Price Range', fontsize=16, fontweight='bold')\n",
        "graph.set_xlabel('Close Price Range (₹)', fontsize=14)\n",
        "graph.set_ylabel('Number of Trading Days', fontsize=14)\n",
        "\n",
        "# Add labels on bars\n",
        "for bar in graph.containers:\n",
        "    graph.bar_label(bar)\n",
        "\n",
        "plt.show()"
      ],
      "metadata": {
        "id": "irlUoxc8YrdO"
      },
      "execution_count": null,
      "outputs": []
    },
    {
      "cell_type": "markdown",
      "source": [
        "##### 1. Why did you pick the specific chart?"
      ],
      "metadata": {
        "id": "iky9q4vBYrdO"
      }
    },
    {
      "cell_type": "markdown",
      "source": [
        "I chose a grouped bar chart (countplot) because it effectively compares two categorical variables — in this case, Price Ranges and Stock Sentiment (Up/Down). This type of chart makes it easier to:\n",
        "\n",
        "Visually compare how sentiment varies across price brackets,\n",
        "\n",
        "Identify where the stock performs well or poorly,\n",
        "\n",
        "Interpret patterns quickly and clearly."
      ],
      "metadata": {
        "id": "aJRCwT6DYrdO"
      }
    },
    {
      "cell_type": "markdown",
      "source": [
        "##### 2. What is/are the insight(s) found from the chart?"
      ],
      "metadata": {
        "id": "F6T5p64dYrdO"
      }
    },
    {
      "cell_type": "markdown",
      "source": [
        "In the ₹51–₹100 and ₹101–₹200 price ranges, the stock has a significantly higher number of \"Stock Up\" days compared to \"Stock Down\" days. This shows strong performance in these brackets.\n",
        "\n",
        "The ₹0–₹50 range has almost an equal or higher number of \"Stock Down\" days, indicating higher volatility or weaker market confidence at lower price levels.\n",
        "\n",
        "The highest price range ₹201–₹400 has fewer entries, but still maintains a positive sentiment balance."
      ],
      "metadata": {
        "id": "Xx8WAJvtYrdO"
      }
    },
    {
      "cell_type": "markdown",
      "source": [
        "##### 3. Will the gained insights help creating a positive business impact?\n",
        "Are there any insights that lead to negative growth? Justify with specific reason."
      ],
      "metadata": {
        "id": "y-Ehk30pYrdP"
      }
    },
    {
      "cell_type": "markdown",
      "source": [
        "Are there any insights that lead to negative growth? Justify with specific reason.\n",
        "\n",
        "Yes, the insights can drive positive business and investment decisions:\n",
        "\n",
        "Identifying price bands with consistently positive sentiment allows traders and analysts to target optimal price zones for entry and exit.\n",
        "\n",
        "It also indicates market confidence when the stock trades above ₹50, which could be used for positioning, marketing, or financial communication.\n",
        "\n",
        "However, there are also signs of negative growth risks:\n",
        "\n",
        "When the stock trades in the ₹0–₹50 range, it is more prone to negative sentiment, which may reflect underlying financial or operational concerns.\n",
        "\n",
        "Prolonged trading in this range could lead to investor uncertainty, lower valuation, and market distrust."
      ],
      "metadata": {
        "id": "jLNxxz7MYrdP"
      }
    },
    {
      "cell_type": "markdown",
      "source": [
        "#### Chart - 5"
      ],
      "metadata": {
        "id": "bamQiAODYuh1"
      }
    },
    {
      "cell_type": "code",
      "source": [
        "# Chart - 5 visualization code\n",
        "import matplotlib.pyplot as plt\n",
        "\n",
        "# Create Sentiment column if not already present\n",
        "df['Sentiment'] = df.apply(lambda row: 'Stock Up' if row['Close'] > row['Open'] else 'Stock Down', axis=1)\n",
        "\n",
        "# Prepare values\n",
        "labels = df['Sentiment'].value_counts().index.tolist()\n",
        "x = df['Sentiment'].value_counts().tolist()\n",
        "\n",
        "# Plot pie chart\n",
        "plt.rcParams['figure.figsize'] = 12, 9\n",
        "plt.title('Stock Movement Percentage', bbox={'facecolor': '0.9', 'pad': 5})\n",
        "plt.pie(x,\n",
        "        explode=(0, 0.08),\n",
        "        labels=labels,\n",
        "        autopct='%1.1f%%',\n",
        "        startangle=90,\n",
        "        textprops={'fontsize': 14},\n",
        "        shadow=True)\n",
        "plt.show()"
      ],
      "metadata": {
        "id": "TIJwrbroYuh3"
      },
      "execution_count": null,
      "outputs": []
    },
    {
      "cell_type": "markdown",
      "source": [
        "##### 1. Why did you pick the specific chart?"
      ],
      "metadata": {
        "id": "QHF8YVU7Yuh3"
      }
    },
    {
      "cell_type": "markdown",
      "source": [
        "I chose a pie chart for this univariate analysis because it is an effective way to visually represent part-to-whole relationships. It helps in quickly understanding how much each category contributes to the total. In this case, the pie chart displays the percentage of trading days where the stock closed higher or lower than it opened, offering a clear view of overall market sentiment toward the stock."
      ],
      "metadata": {
        "id": "dcxuIMRPYuh3"
      }
    },
    {
      "cell_type": "markdown",
      "source": [
        "##### 2. What is/are the insight(s) found from the chart?"
      ],
      "metadata": {
        "id": "GwzvFGzlYuh3"
      }
    },
    {
      "cell_type": "markdown",
      "source": [
        "The pie chart shows that Stock Up days account for approximately 67.7% of the data, indicating that the stock closed higher than it opened on most trading days.\n",
        "\n",
        "Stock Down days represent about 32.3%, which is significantly lower.\n",
        "\n",
        "This suggests that positive momentum or bullish sentiment is more common for Yes Bank stock during the observed period."
      ],
      "metadata": {
        "id": "uyqkiB8YYuh3"
      }
    },
    {
      "cell_type": "markdown",
      "source": [
        "##### 3. Will the gained insights help creating a positive business impact?\n",
        "Are there any insights that lead to negative growth? Justify with specific reason."
      ],
      "metadata": {
        "id": "qYpmQ266Yuh3"
      }
    },
    {
      "cell_type": "markdown",
      "source": [
        "Yes, these insights can support positive business and investment decisions:\n",
        "\n",
        "A high percentage of Stock Up days reinforces the idea that the stock has shown steady performance and potential growth, which can attract more investors and improve market reputation.\n",
        "\n",
        "Financial analysts and traders can leverage this trend to build short-term trading strategies, target buy/sell zones, or make data-driven portfolio decisions.\n",
        "\n",
        "On the other hand, the presence of 32.3% Stock Down days serves as a reminder of the stock's volatility. If this downward percentage increases in the future, it may indicate:\n",
        "\n",
        "Market corrections\n",
        "\n",
        "Weak investor trust\n",
        "\n",
        "Possible financial or operational challenges"
      ],
      "metadata": {
        "id": "_WtzZ_hCYuh4"
      }
    },
    {
      "cell_type": "markdown",
      "source": [
        "#### Chart - 6"
      ],
      "metadata": {
        "id": "OH-pJp9IphqM"
      }
    },
    {
      "cell_type": "code",
      "source": [
        "# Chart - 6 visualization code\n",
        "import matplotlib.pyplot as plt\n",
        "import seaborn as sns\n",
        "import pandas as pd\n",
        "\n",
        "# Create Price Range column\n",
        "df['Price Range'] = pd.cut(df['Close'], bins=[0, 50, 100, 200, 400], labels=['0-50', '51-100', '101-200', '201-400'])\n",
        "\n",
        "# Group by Price Range and calculate average Close price\n",
        "avg_close_by_range = df.groupby('Price Range')['Close'].mean().reset_index().rename(columns={'Close': 'Average Close Price'})\n",
        "\n",
        "# Plot\n",
        "plt.figure(figsize=(6, 8))\n",
        "ax = sns.barplot(x='Price Range', y='Average Close Price', data=avg_close_by_range, palette='Blues')\n",
        "\n",
        "# Annotate values on bars\n",
        "for index, row in avg_close_by_range.iterrows():\n",
        "    ax.text(index, row['Average Close Price'], round(row['Average Close Price'], 2),\n",
        "            color='black', ha=\"center\", va=\"bottom\", fontsize=10)\n",
        "\n",
        "plt.title(\"Average Closing Price by Price Range\")\n",
        "plt.xlabel(\"Price Range (₹)\")\n",
        "plt.ylabel(\"Average Closing Price (₹)\")\n",
        "plt.show()"
      ],
      "metadata": {
        "id": "kuRf4wtuphqN"
      },
      "execution_count": null,
      "outputs": []
    },
    {
      "cell_type": "markdown",
      "source": [
        "##### 1. Why did you pick the specific chart?"
      ],
      "metadata": {
        "id": "bbFf2-_FphqN"
      }
    },
    {
      "cell_type": "markdown",
      "source": [
        "I used a bar chart for bivariate analysis because it effectively shows the relationship between two variables — in this case, price ranges (categorical) and their corresponding average closing prices (numerical). Bar charts make it easy to compare magnitudes across categories and are well-suited for visualizing trends in grouped financial data. Grouping by price range allowed me to identify how average stock performance differs across valuation zones."
      ],
      "metadata": {
        "id": "loh7H2nzphqN"
      }
    },
    {
      "cell_type": "markdown",
      "source": [
        "##### 2. What is/are the insight(s) found from the chart?"
      ],
      "metadata": {
        "id": "_ouA3fa0phqN"
      }
    },
    {
      "cell_type": "markdown",
      "source": [
        "The average closing price increases steadily as we move from lower to higher price ranges, as expected.\n",
        "\n",
        "The highest average occurs in the ₹201–₹400 price range, showing that when the stock enters this bracket, it tends to perform well and sustain higher value.\n",
        "\n",
        "The lowest average is found in the ₹0–₹50 range, reflecting lower investor sentiment and market valuation."
      ],
      "metadata": {
        "id": "VECbqPI7phqN"
      }
    },
    {
      "cell_type": "markdown",
      "source": [
        "##### 3. Will the gained insights help creating a positive business impact?\n",
        "Are there any insights that lead to negative growth? Justify with specific reason."
      ],
      "metadata": {
        "id": "Seke61FWphqN"
      }
    },
    {
      "cell_type": "markdown",
      "source": [
        "Yes, these insights are useful for creating a positive business and financial impact:\n",
        "\n",
        "Investors and analysts can use this data to strategically time entries and exits based on historically strong price bands.\n",
        "\n",
        "The upward trend in average close price by range shows that the stock has growth potential and responds well when trading above ₹100, boosting investor confidence.\n",
        "\n",
        "However, the analysis also highlights areas for caution:\n",
        "\n",
        "If the stock remains stuck in the ₹0–₹50 range, it might indicate reduced market confidence, poor fundamentals, or external pressures.\n",
        "\n",
        "Prolonged trading in this low band could lead to negative growth, both in terms of stock value and investor trust."
      ],
      "metadata": {
        "id": "DW4_bGpfphqN"
      }
    },
    {
      "cell_type": "markdown",
      "source": [
        "#### Chart - 7"
      ],
      "metadata": {
        "id": "PIIx-8_IphqN"
      }
    },
    {
      "cell_type": "code",
      "source": [
        "# Chart - 7 visualization code\n",
        "import matplotlib.pyplot as plt\n",
        "import seaborn as sns\n",
        "import pandas as pd\n",
        "\n",
        "# Create necessary columns\n",
        "df['Sentiment'] = df.apply(lambda row: 'Stock Up' if row['Close'] > row['Open'] else 'Stock Down', axis=1)\n",
        "df['Price Movement'] = df['High'] - df['Low']  # Daily price swing\n",
        "df = df[df['Price Movement'] < 100]  # Filter to avoid outliers\n",
        "\n",
        "# Bin price movement into categories\n",
        "df['Movement Range'] = pd.cut(df['Price Movement'],\n",
        "                               bins=[0, 5, 10, 20, 50, 100],\n",
        "                               labels=['0–5₹', '6–10₹', '11–20₹', '21–50₹', '51–100₹'])\n",
        "\n",
        "# Plot countplot\n",
        "plt.figure(figsize=(9, 7))\n",
        "sns.countplot(x='Movement Range', hue='Sentiment', data=df, palette='dark')\n",
        "plt.title('Frequency of Daily Price Movement Ranges by Stock Sentiment', bbox={'facecolor': '0.8', 'pad': 3})\n",
        "plt.xlabel('Daily Price Movement Range')\n",
        "plt.ylabel('Number of Trading Days')\n",
        "plt.show()"
      ],
      "metadata": {
        "id": "lqAIGUfyphqO"
      },
      "execution_count": null,
      "outputs": []
    },
    {
      "cell_type": "markdown",
      "source": [
        "##### 1. Why did you pick the specific chart?"
      ],
      "metadata": {
        "id": "t27r6nlMphqO"
      }
    },
    {
      "cell_type": "markdown",
      "source": [
        "I chose a grouped bar chart (countplot) because it clearly shows the distribution of a numerical feature (daily price movement) across categories (Sentiment: Stock Up or Stock Down).\n",
        "By binning the daily price change (High – Low) into ranges, we can analyze how often the stock experienced certain levels of volatility, and how that volatility corresponds to positive or negative sentiment. This kind of bivariate comparison is useful for identifying volatility patterns and market behavior."
      ],
      "metadata": {
        "id": "iv6ro40sphqO"
      }
    },
    {
      "cell_type": "markdown",
      "source": [
        "##### 2. What is/are the insight(s) found from the chart?"
      ],
      "metadata": {
        "id": "r2jJGEOYphqO"
      }
    },
    {
      "cell_type": "markdown",
      "source": [
        "The most frequent price movement range is between ₹0–₹5, and in most of these cases, the sentiment is Stock Up.\n",
        "\n",
        "As the price movement increases beyond ₹10 or ₹20, the number of both Stock Up and Stock Down days decreases, but Stock Down sentiment becomes more frequent in high-volatility bands.\n",
        "\n",
        "Days with larger swings (₹20 and above) tend to have mixed sentiment, indicating uncertainty or speculative trading."
      ],
      "metadata": {
        "id": "Po6ZPi4hphqO"
      }
    },
    {
      "cell_type": "markdown",
      "source": [
        "##### 3. Will the gained insights help creating a positive business impact?\n",
        "Are there any insights that lead to negative growth? Justify with specific reason."
      ],
      "metadata": {
        "id": "b0JNsNcRphqO"
      }
    },
    {
      "cell_type": "markdown",
      "source": [
        "Yes, the insights are valuable for trading strategy and risk management:\n",
        "\n",
        "Investors can focus on trading during low volatility periods, which historically show more positive sentiment and lower risk.\n",
        "\n",
        "Portfolio managers can use this to predict risk zones and apply tighter stop-loss strategies when the stock enters higher volatility.\n",
        "\n",
        "However, certain insights could indicate negative growth risks:\n",
        "\n",
        "The presence of high price swings with negative sentiment might reflect market instability, external economic concerns, or speculative selling.\n",
        "\n",
        "Repeated large downward movements may shake investor confidence and signal poor market control or news sensitivity, which is harmful for long-term valuation."
      ],
      "metadata": {
        "id": "xvSq8iUTphqO"
      }
    },
    {
      "cell_type": "markdown",
      "source": [
        "#### Chart - 8"
      ],
      "metadata": {
        "id": "BZR9WyysphqO"
      }
    },
    {
      "cell_type": "code",
      "source": [
        "# Chart - 8 visualization code\n",
        "import pandas as pd\n",
        "\n",
        "# Create sentiment column if not already present\n",
        "df['Sentiment'] = df.apply(lambda row: 'Stock Up' if row['Close'] > row['Open'] else 'Stock Down', axis=1)\n",
        "\n",
        "# Group by sentiment and calculate percentage\n",
        "sentiment_group = df.groupby('Sentiment')\n",
        "sentiment_percentage = pd.DataFrame(round((sentiment_group.size() / df.shape[0]) * 100, 2)).reset_index().rename(columns={0: 'Day_%'})\n",
        "\n",
        "# Display the result\n",
        "sentiment_percentage"
      ],
      "metadata": {
        "id": "TdPTWpAVphqO"
      },
      "execution_count": null,
      "outputs": []
    },
    {
      "cell_type": "code",
      "source": [
        "import matplotlib.pyplot as plt\n",
        "\n",
        "# Pie chart for Sentiment distribution\n",
        "plt.figure(figsize=(9, 9))\n",
        "# Use the variable 'sentiment_percentage' which holds the calculated data\n",
        "data = sentiment_percentage['Day_%']           # Percentage values\n",
        "labels = sentiment_percentage['Sentiment']     # 'Stock Up', 'Stock Down'\n",
        "\n",
        "plt.pie(\n",
        "    x=data,\n",
        "    labels=labels,\n",
        "    autopct=\"%0.2f%%\",\n",
        "    explode=[0.04] * len(data),\n",
        "    pctdistance=0.8,\n",
        "    shadow=True\n",
        ")\n",
        "\n",
        "plt.title(\"Stock Sentiment Distribution (%)\", fontsize=15)\n",
        "plt.show()\n",
        "\n"
      ],
      "metadata": {
        "id": "EyvZOefchAeY"
      },
      "execution_count": null,
      "outputs": []
    },
    {
      "cell_type": "markdown",
      "source": [
        "##### 1. Why did you pick the specific chart?"
      ],
      "metadata": {
        "id": "jj7wYXLtphqO"
      }
    },
    {
      "cell_type": "markdown",
      "source": [
        "I selected a pie chart because it is highly effective for showing percentage-based comparisons in a simple and visual way.\n",
        "In this case, we’re analyzing how often the stock closed higher or lower than it opened — represented as Stock Up and Stock Down. The circular format makes it easy to communicate the proportion of positive vs negative trading days at a glance. This is perfect for summarizing sentiment and providing high-level insights in dashboards or reports."
      ],
      "metadata": {
        "id": "Ob8u6rCTphqO"
      }
    },
    {
      "cell_type": "markdown",
      "source": [
        "##### 2. What is/are the insight(s) found from the chart?"
      ],
      "metadata": {
        "id": "eZrbJ2SmphqO"
      }
    },
    {
      "cell_type": "markdown",
      "source": [
        "The chart reveals that approximately 67.7% of trading days resulted in a positive movement (Stock Up).\n",
        "\n",
        "Only 32.3% of trading days had a negative movement (Stock Down)."
      ],
      "metadata": {
        "id": "mZtgC_hjphqO"
      }
    },
    {
      "cell_type": "markdown",
      "source": [
        "##### 3. Will the gained insights help creating a positive business impact?\n",
        "Are there any insights that lead to negative growth? Justify with specific reason."
      ],
      "metadata": {
        "id": "rFu4xreNphqO"
      }
    },
    {
      "cell_type": "markdown",
      "source": [
        "Positive Business Impact:\n",
        "\n",
        "A higher percentage of Stock Up days builds investor confidence, helping to attract long-term investors and institutional interest.\n",
        "\n",
        "This insight can guide portfolio strategies, encouraging traders to participate more actively in a stock that historically closes higher more often.\n",
        "\n",
        "Financial analysts and business stakeholders can use this sentiment metric to support marketing, investor relations, and strategic decisions.\n",
        "\n",
        " Potential for Negative Growth:\n",
        "\n",
        "While 32.3% of the days are Stock Down, if these days involve sharp declines, it may indicate periods of high volatility or market sensitivity.\n",
        "\n",
        "A shift in trend (i.e., if Stock Down % begins to rise in future data) could be an early warning signal for declining performance, investor distrust, or macroeconomic pressure."
      ],
      "metadata": {
        "id": "ey_0qi68phqO"
      }
    },
    {
      "cell_type": "markdown",
      "source": [
        "#### Chart - 9"
      ],
      "metadata": {
        "id": "YJ55k-q6phqO"
      }
    },
    {
      "cell_type": "code",
      "source": [
        "# Chart - 9 visualization code\n",
        "import pandas as pd\n",
        "import matplotlib.pyplot as plt\n",
        "import seaborn as sns\n",
        "\n",
        "# Create 'Sentiment' column if not already present\n",
        "df['Sentiment'] = df.apply(lambda row: 'Stock Down' if row['Close'] < row['Open'] else 'Stock Up', axis=1)\n",
        "\n",
        "# Create Price Range bins\n",
        "df['Price Range'] = pd.cut(df['Close'], bins=[0, 50, 100, 200, 400], labels=['0–50', '51–100', '101–200', '201–400'])\n",
        "\n",
        "# Group by Price Range and calculate Stock Down %\n",
        "dc = df.groupby('Price Range')\n",
        "d1 = pd.DataFrame((dc['Sentiment'].apply(lambda x: (x == 'Stock Down').sum()) / dc.size()) * 100)\n",
        "\n",
        "# Assuming the default name is 0 based on how pandas handles this type of aggregation\n",
        "d1.rename(columns={d1.columns[0]: 'Down_%'}, inplace=True)\n",
        "\n",
        "\n",
        "# Plotting\n",
        "plt.figure(figsize=(8, 6))\n",
        "sns.barplot(x=d1.index, y=d1['Down_%'], palette='Oranges')\n",
        "\n",
        "plt.title('Stock Down % Among All Price Ranges', bbox={'facecolor': '0.8', 'pad': 3})\n",
        "plt.xlabel('Price Range (₹)')\n",
        "plt.ylabel('Stock Down Percentage (%)')\n",
        "plt.ylim(0, 100)\n",
        "plt.show()"
      ],
      "metadata": {
        "id": "B2aS4O1ophqO"
      },
      "execution_count": null,
      "outputs": []
    },
    {
      "cell_type": "markdown",
      "source": [
        "##### 1. Why did you pick the specific chart?"
      ],
      "metadata": {
        "id": "gCFgpxoyphqP"
      }
    },
    {
      "cell_type": "markdown",
      "source": [
        "I chose a bar chart for this analysis because it effectively shows the percentage of Stock Down days across different price ranges.\n",
        "Bar charts are ideal for comparing discrete categories (price bands here) and make it easier to interpret which price ranges are more prone to daily losses. This chart helps us explore univariate distribution with conditional context, offering insights into the riskiness of certain price zones.\n",
        "\n"
      ],
      "metadata": {
        "id": "TVxDimi2phqP"
      }
    },
    {
      "cell_type": "markdown",
      "source": [
        "##### 2. What is/are the insight(s) found from the chart?"
      ],
      "metadata": {
        "id": "OVtJsKN_phqQ"
      }
    },
    {
      "cell_type": "markdown",
      "source": [
        "The lowest price band (₹0–₹50) tends to have a higher percentage of Stock Down days, suggesting increased volatility or selling pressure at lower prices.\n",
        "\n",
        "As the stock moves to higher price ranges (₹101–₹400), the Stock Down % decreases, indicating more price strength and stability at higher valuations.\n",
        "\n",
        "The ₹201–₹400 range shows the lowest Stock Down percentage, which could imply better investor sentiment or institutional buying support in that band."
      ],
      "metadata": {
        "id": "ngGi97qjphqQ"
      }
    },
    {
      "cell_type": "markdown",
      "source": [
        "##### 3. Will the gained insights help creating a positive business impact?\n",
        "Are there any insights that lead to negative growth? Justify with specific reason."
      ],
      "metadata": {
        "id": "lssrdh5qphqQ"
      }
    },
    {
      "cell_type": "markdown",
      "source": [
        "Positive Business Impact:\n",
        "\n",
        "Traders and investors can use this analysis to identify safer price zones (e.g., ₹101 and above) where downside risk is lower.\n",
        "\n",
        "It helps build strategies around stop-loss and entry levels, maximizing returns and reducing exposure.\n",
        "\n",
        "Analysts can use this to explain stock behavior during earnings calls, market reports, or investment advisory sessions.\n",
        "\n",
        "Insights That May Indicate Negative Growth:\n",
        "\n",
        "If the stock frequently falls when it's priced below ₹50, this could reflect weak market sentiment, external risk factors, or lack of institutional support.\n",
        "\n",
        "Sustained high Stock Down % in lower price bands could discourage retail and institutional participation, leading to decreased liquidity and negative valuation perception.\n",
        "\n"
      ],
      "metadata": {
        "id": "tBpY5ekJphqQ"
      }
    },
    {
      "cell_type": "markdown",
      "source": [
        "#### Chart - 10"
      ],
      "metadata": {
        "id": "U2RJ9gkRphqQ"
      }
    },
    {
      "cell_type": "code",
      "source": [
        "# Chart - 10 visualization code\n",
        "import pandas as pd\n",
        "import matplotlib.pyplot as plt\n",
        "import seaborn as sns\n",
        "\n",
        "# Create Price Range from Close Price\n",
        "df['Price Range'] = pd.cut(df['Close'], bins=[0, 50, 100, 200, 400], labels=['0–50', '51–100', '101–200', '201–400'])\n",
        "\n",
        "# Setup subplots\n",
        "fig, axes = plt.subplots(1, 2, figsize=(18, 9))\n",
        "\n",
        "# Left Plot: Bar chart of number of trading days in each price range (Demand)\n",
        "plot = sns.countplot(ax=axes[0], x=df['Price Range'], palette='Set2')\n",
        "axes[0].set_title('Number of Trading Days per Price Range')\n",
        "axes[0].set_xlabel('Price Range (₹)')\n",
        "axes[0].set_ylabel('Number of Days')\n",
        "for bar in plot.containers:\n",
        "    plot.bar_label(bar)\n",
        "\n",
        "# Right Plot: Boxplot of Close price per price range (Revenue indicator)\n",
        "sns.boxplot(ax=axes[1], x=df['Price Range'], y=df['Close'], palette='Set3')\n",
        "axes[1].set_title('Close Price Distribution by Price Range')\n",
        "axes[1].set_xlabel('Price Range (₹)')\n",
        "axes[1].set_ylabel('Closing Price')\n",
        "\n",
        "plt.tight_layout()\n",
        "plt.show()\n"
      ],
      "metadata": {
        "id": "GM7a4YP4phqQ"
      },
      "execution_count": null,
      "outputs": []
    },
    {
      "cell_type": "markdown",
      "source": [
        "##### 1. Why did you pick the specific chart?"
      ],
      "metadata": {
        "id": "1M8mcRywphqQ"
      }
    },
    {
      "cell_type": "markdown",
      "source": [
        "The countplot (on the left) shows how many trading days fall into each price range, indicating where the stock most frequently trades — similar to how we analyze demand for room types.\n",
        "\n",
        "The boxplot (on the right) shows the distribution of closing prices within each price range — similar to revenue per room type in hotel data"
      ],
      "metadata": {
        "id": "8agQvks0phqQ"
      }
    },
    {
      "cell_type": "markdown",
      "source": [
        "##### 2. What is/are the insight(s) found from the chart?"
      ],
      "metadata": {
        "id": "tgIPom80phqQ"
      }
    },
    {
      "cell_type": "markdown",
      "source": [
        "The 51–100 range had the most trading days, suggesting the stock was most stable or popular in that range.\n",
        "\n",
        "The Close price boxplot in this range shows a narrow interquartile range (IQR) and fewer outliers, indicating price consistency and lower volatility.\n",
        "\n",
        "The 201–400 range had the fewest trading days, meaning the stock rarely reached or stayed at those levels — indicating a less accessible or overvalued zone during the observed period.\n",
        "\n",
        "The lowest range (0–50) shows more outliers and wider spread, implying higher volatility at very low price points.\n",
        "\n"
      ],
      "metadata": {
        "id": "Qp13pnNzphqQ"
      }
    },
    {
      "cell_type": "markdown",
      "source": [
        "##### 3. Will the gained insights help creating a positive business impact?\n",
        "Are there any insights that lead to negative growth? Justify with specific reason."
      ],
      "metadata": {
        "id": "JMzcOPDDphqR"
      }
    },
    {
      "cell_type": "markdown",
      "source": [
        "Positive Business Impact:\n",
        "\n",
        "Helps investors and analysts identify safe trading bands (e.g., ₹51–₹100) where the stock tends to be stable.\n",
        "\n",
        "Traders may set buy zones and sell targets using these insights — e.g., enter in the ₹50–₹100 range where activity is dense and price is consistent.\n",
        "\n",
        "Companies or financial planners can use this to understand investor behavior and plan communication or strategic buybacks.\n",
        "\n",
        "Potential Indicators of Negative Growth:\n",
        "\n",
        "If the stock frequently appears in lower price bands (0–50) with high variance, this could indicate investor uncertainty, deteriorating fundamentals, or market pressure.\n",
        "\n",
        "Reduced activity in higher ranges (₹200+) might signal low market confidence in high valuations.\n",
        "\n"
      ],
      "metadata": {
        "id": "R4Ka1PC2phqR"
      }
    },
    {
      "cell_type": "markdown",
      "source": [
        "#### Chart - 11"
      ],
      "metadata": {
        "id": "x-EpHcCOp1ci"
      }
    },
    {
      "cell_type": "code",
      "source": [
        "# Chart - 11 visualization code\n",
        "import matplotlib.pyplot as plt\n",
        "import seaborn as sns\n",
        "\n",
        "# Scatter plot of Open vs Close price\n",
        "plt.figure(figsize=(15, 9))\n",
        "# Adjust the y-limit if necessary based on the actual price ranges\n",
        "# plt.ylim(0, 500) # This limit might not be appropriate for all stock price ranges, consider removing or adjusting\n",
        "sns.scatterplot(x='Open', y='Close', data=df, color='coral') # Changed 'total_stay' to 'Open' and 'adr' to 'Close'\n",
        "\n",
        "# Styling\n",
        "plt.title('Open Price vs Closing Price', bbox={'facecolor': '0.8', 'pad': 3})\n",
        "plt.xlabel('Opening Price (₹)') # Updated xlabel\n",
        "plt.ylabel('Closing Price (₹)') # Updated ylabel\n",
        "plt.grid(True)\n",
        "plt.show()\n"
      ],
      "metadata": {
        "id": "mAQTIvtqp1cj"
      },
      "execution_count": null,
      "outputs": []
    },
    {
      "cell_type": "markdown",
      "source": [
        "##### 1. Why did you pick the specific chart?"
      ],
      "metadata": {
        "id": "X_VqEhTip1ck"
      }
    },
    {
      "cell_type": "markdown",
      "source": [
        "A scatter plot is ideal for showing the relationship between two continuous variables — in this case, Open and Close prices of Yes Bank stock.\n",
        "This chart helps you:\n",
        "\n",
        "Understand how closely the stock's closing price tracks its opening price.\n",
        "\n",
        "Identify daily volatility, trends, or consistency in stock performance."
      ],
      "metadata": {
        "id": "-vsMzt_np1ck"
      }
    },
    {
      "cell_type": "markdown",
      "source": [
        "##### 2. What is/are the insight(s) found from the chart?"
      ],
      "metadata": {
        "id": "8zGJKyg5p1ck"
      }
    },
    {
      "cell_type": "markdown",
      "source": [
        "If points lie close to the diagonal (y = x), it shows that prices remain stable during the day.\n",
        "\n",
        "If there is significant spread, it suggests intraday volatility — useful for day traders.\n",
        "\n",
        "Points above the diagonal = days when stock closed higher than it opened (bullish).\n",
        "\n",
        "Points below the diagonal = bearish trading days.\n",
        "\n"
      ],
      "metadata": {
        "id": "ZYdMsrqVp1ck"
      }
    },
    {
      "cell_type": "markdown",
      "source": [
        "##### 3. Will the gained insights help creating a positive business impact?\n",
        "Are there any insights that lead to negative growth? Justify with specific reason."
      ],
      "metadata": {
        "id": "PVzmfK_Ep1ck"
      }
    },
    {
      "cell_type": "markdown",
      "source": [
        "Positive Impact:\n",
        "If the stock shows consistent upward closing prices, it reflects investor confidence and can attract more short-term traders or intraday investors. It also indicates price momentum, which is useful for planning trading strategies or issuing recommendations.\n",
        "\n",
        "Negative Impact:\n",
        "If most days show closing prices lower than the opening, it may reflect negative market sentiment or poor performance, which could drive away investors and lead to stock value depreciation. This can impact the company’s market image and trading volume."
      ],
      "metadata": {
        "id": "druuKYZpp1ck"
      }
    },
    {
      "cell_type": "markdown",
      "source": [
        "#### Chart - 12"
      ],
      "metadata": {
        "id": "n3dbpmDWp1ck"
      }
    },
    {
      "cell_type": "code",
      "source": [
        "# Chart - 12 visualization code\n",
        "import pandas as pd\n",
        "import matplotlib.pyplot as plt\n",
        "import seaborn as sns\n",
        "\n",
        "# Step 1: Convert the 'Date' column to datetime format\n",
        "df['Date'] = pd.to_datetime(df['Date'], errors='coerce')\n",
        "\n",
        "# Step 2: Extract the year and month in 'YYYY-MM' format\n",
        "df['Month'] = df['Date'].dt.to_period('M').astype(str)\n",
        "\n",
        "# Step 3: Group by Month and calculate average closing price\n",
        "monthly_activity = df.groupby('Month')['Close'].mean().sort_values(ascending=False).head(10)\n",
        "\n",
        "# Step 4: Plotting\n",
        "plt.figure(figsize=(12, 6))\n",
        "bargraph = sns.barplot(x=monthly_activity.index, y=monthly_activity.values, palette='Blues_d')\n",
        "\n",
        "# Title and labels\n",
        "plt.title('Top 10 Months by Average Closing Price (YesBank StockPrices)', bbox={'facecolor': '0.8', 'pad': 3})\n",
        "plt.xlabel('Month')\n",
        "plt.ylabel('Average Closing Price (₹)')\n",
        "\n",
        "# Step 5: Add value labels on top of each bar\n",
        "for container in bargraph.containers:\n",
        "    bargraph.bar_label(container, fmt='%.2f')\n",
        "\n",
        "# Final layout\n",
        "plt.tight_layout()\n",
        "plt.show()\n"
      ],
      "metadata": {
        "id": "bwevp1tKp1ck"
      },
      "execution_count": null,
      "outputs": []
    },
    {
      "cell_type": "markdown",
      "source": [
        "##### 1. Why did you pick the specific chart?"
      ],
      "metadata": {
        "id": "ylSl6qgtp1ck"
      }
    },
    {
      "cell_type": "markdown",
      "source": [
        "A bar chart is ideal for comparing discrete categories — in this case, monthly average closing prices.\n",
        "\n",
        "It helps identify which months had the highest stock performance, offering insights into seasonal trends or market cycles.\n",
        "\n"
      ],
      "metadata": {
        "id": "m2xqNkiQp1ck"
      }
    },
    {
      "cell_type": "markdown",
      "source": [
        "##### 2. What is/are the insight(s) found from the chart?"
      ],
      "metadata": {
        "id": "ZWILFDl5p1ck"
      }
    },
    {
      "cell_type": "markdown",
      "source": [
        "Shows the top 10 months with the highest average closing prices.\n",
        "\n",
        "Can indicate bullish periods or times of market optimism.\n",
        "\n",
        "Might correspond to key financial events like quarterly results, policy changes, or sector-specific rallies.\n",
        "\n"
      ],
      "metadata": {
        "id": "x-lUsV2mp1ck"
      }
    },
    {
      "cell_type": "markdown",
      "source": [
        "##### 3. Will the gained insights help creating a positive business impact?\n",
        "Are there any insights that lead to negative growth? Justify with specific reason."
      ],
      "metadata": {
        "id": "M7G43BXep1ck"
      }
    },
    {
      "cell_type": "markdown",
      "source": [
        "Positive Impact:\n",
        "Investors and traders can plan better by knowing the months that historically perform well.\n",
        "\n",
        "Helps analysts predict seasonal behavior in stock performance.\n",
        "\n",
        "Financial advisors can optimize entry/exit timing based on such insights.\n",
        "\n",
        "Negative Insight:\n",
        "If only a few months perform well and others don’t, it may indicate volatility or inconsistency, which is risky for long-term investors.\n",
        "\n",
        "A sharp decline after these top-performing months might suggest speculative bubbles or overreactions.\n",
        "\n",
        "\n"
      ],
      "metadata": {
        "id": "5wwDJXsLp1cl"
      }
    },
    {
      "cell_type": "markdown",
      "source": [
        "#### Chart - 13"
      ],
      "metadata": {
        "id": "Ag9LCva-p1cl"
      }
    },
    {
      "cell_type": "code",
      "source": [
        "# Chart - 13 visualization code\n",
        "import pandas as pd\n",
        "import matplotlib.pyplot as plt\n",
        "import seaborn as sns\n",
        "\n",
        "# Step 1: Ensure Date column is in datetime format\n",
        "df['Date'] = pd.to_datetime(df['Date'], errors='coerce')\n",
        "\n",
        "# Step 2: Extract Month-Year from Date\n",
        "df['Month'] = df['Date'].dt.to_period('M').astype(str)\n",
        "\n",
        "# Step 3: Calculate daily volatility (High - Low)\n",
        "df['Volatility'] = df['High'] - df['Low']\n",
        "\n",
        "# Step 4: Group by Month and compute average volatility\n",
        "monthly_volatility = df.groupby('Month')['Volatility'].mean().sort_values(ascending=False).head(10)\n",
        "\n",
        "# Step 5: Plotting\n",
        "plt.figure(figsize=(12, 6))\n",
        "sns.barplot(x=monthly_volatility.index, y=monthly_volatility.values, palette='coolwarm')\n",
        "plt.title('Top 10 Months by Average Daily Volatility (Yes Bank Stock)', bbox={'facecolor': '0.8', 'pad': 3})\n",
        "plt.xlabel('Month')\n",
        "plt.ylabel('Average Daily Volatility (₹)')\n",
        "plt.xticks(rotation=45)\n",
        "\n",
        "# Add value labels\n",
        "for container in plt.gca().containers:\n",
        "    plt.gca().bar_label(container, fmt='%.2f')\n",
        "\n",
        "plt.tight_layout()\n",
        "plt.show()\n",
        "\n"
      ],
      "metadata": {
        "id": "EUfxeq9-p1cl"
      },
      "execution_count": null,
      "outputs": []
    },
    {
      "cell_type": "markdown",
      "source": [
        "##### 1. Why did you pick the specific chart?"
      ],
      "metadata": {
        "id": "E6MkPsBcp1cl"
      }
    },
    {
      "cell_type": "markdown",
      "source": [
        "A bar chart is ideal for comparing average values across different time periods.\n",
        "\n",
        "In this case, it clearly highlights the monthly stock volatility, helping us identify when Yes Bank stock had the largest day-to-day price movements.\n",
        "\n",
        "It’s useful for risk analysis, trading strategies, and volatility-based decision-making.\n",
        "\n"
      ],
      "metadata": {
        "id": "V22bRsFWp1cl"
      }
    },
    {
      "cell_type": "markdown",
      "source": [
        "##### 2. What is/are the insight(s) found from the chart?"
      ],
      "metadata": {
        "id": "2cELzS2fp1cl"
      }
    },
    {
      "cell_type": "markdown",
      "source": [
        "The chart reveals the top 10 months with the highest average volatility.\n",
        "\n",
        "These spikes in volatility may correspond to:\n",
        "\n",
        "Market reactions to quarterly earnings\n",
        "\n",
        "Regulatory changes, or\n",
        "\n",
        "Investor sentiment shifts\n",
        "\n",
        "Months with higher volatility indicate periods of greater uncertainty or rapid price movement.\n",
        "\n"
      ],
      "metadata": {
        "id": "ozQPc2_Ip1cl"
      }
    },
    {
      "cell_type": "markdown",
      "source": [
        "##### 3. Will the gained insights help creating a positive business impact?\n",
        "Are there any insights that lead to negative growth? Justify with specific reason."
      ],
      "metadata": {
        "id": "3MPXvC8up1cl"
      }
    },
    {
      "cell_type": "markdown",
      "source": [
        "Positive Impact:\n",
        "Traders can capitalize on high-volatility months using swing or intraday strategies.\n",
        "\n",
        "Financial advisors can use this insight to guide clients on optimal timing based on risk appetite.\n",
        "\n",
        "Investors can plan risk management strategies like stop-loss or hedge positions during volatile periods.\n",
        "\n",
        "🔻 Negative Impact:\n",
        "High volatility often reflects market uncertainty or instability, which may reduce investor confidence.\n",
        "\n",
        "If consistent, it may signal speculative activity or lack of faith in fundamentals, leading to negative long-term perception of the stock.\n",
        "\n"
      ],
      "metadata": {
        "id": "GL8l1tdLp1cl"
      }
    },
    {
      "cell_type": "markdown",
      "source": [
        "#### Chart - 14 - Correlation Heatmap"
      ],
      "metadata": {
        "id": "NC_X3p0fY2L0"
      }
    },
    {
      "cell_type": "code",
      "source": [
        "# Correlation Heatmap visualization code\n",
        "import pandas as pd\n",
        "import matplotlib.pyplot as plt\n",
        "import seaborn as sns\n",
        "\n",
        "# Select relevant numeric columns for correlation\n",
        "# The original code had column names from a different dataset.\n",
        "# We need to select the numeric columns from the Yes Bank stock price data.\n",
        "corr_df = df[['Open', 'High', 'Low', 'Close']]\n",
        "\n",
        "# Compute the correlation matrix\n",
        "correlation_matrix = corr_df.corr()\n",
        "\n",
        "# Plotting the heatmap\n",
        "plt.figure(figsize=(8, 8))\n",
        "sns.heatmap(correlation_matrix, annot=True, fmt='.2f', cmap='coolwarm', square=True,\n",
        "            annot_kws={'size': 10}, linewidths=0.5, cbar_kws={'shrink': 0.8})\n",
        "\n",
        "plt.title('Correlation Heatmap of Yes Bank Stock Prices', fontsize=14, bbox={'facecolor': '0.9', 'pad': 3})\n",
        "plt.tight_layout()\n",
        "plt.show()"
      ],
      "metadata": {
        "id": "xyC9zolEZNRQ"
      },
      "execution_count": null,
      "outputs": []
    },
    {
      "cell_type": "markdown",
      "source": [
        "##### 1. Why did you pick the specific chart?"
      ],
      "metadata": {
        "id": "UV0SzAkaZNRQ"
      }
    },
    {
      "cell_type": "markdown",
      "source": [
        "A correlation heatmap is the best tool to visualize relationships between numerical variables.\n",
        "\n",
        "In stock data, this chart helps determine how strongly variables like Open, High, Low, and Close prices are related.\n",
        "\n",
        "It provides a quick overview of linear relationships in a compact, visual form."
      ],
      "metadata": {
        "id": "DVPuT8LYZNRQ"
      }
    },
    {
      "cell_type": "markdown",
      "source": [
        "##### 2. What is/are the insight(s) found from the chart?"
      ],
      "metadata": {
        "id": "YPEH6qLeZNRQ"
      }
    },
    {
      "cell_type": "markdown",
      "source": [
        "The Close price shows a very strong positive correlation with Open, High, and Low prices (correlation coefficients close to 1.00).\n",
        "\n",
        "This indicates that these prices tend to move together, which is expected in financial data where daily price movements are tightly coupled.\n",
        "\n",
        "High and Low prices also have a near-perfect correlation, showing that the trading range remains proportionally consistent.\n",
        "\n"
      ],
      "metadata": {
        "id": "bfSqtnDqZNRR"
      }
    },
    {
      "cell_type": "markdown",
      "source": [
        "#### Chart - 15 - Pair Plot"
      ],
      "metadata": {
        "id": "q29F0dvdveiT"
      }
    },
    {
      "cell_type": "code",
      "source": [
        "# Pair Plot visualization code\n",
        "sns.pairplot(\n",
        "    df,\n",
        "    vars=['Open', 'High', 'Low', 'Close'],\n",
        "    palette='coolwarm',\n",
        "    height=2.5\n",
        ")\n",
        "\n",
        "plt.suptitle(\"Pairwise Relationships of Stock Price Features\",\n",
        "             y=1.02, fontsize=14, fontweight='bold')\n",
        "\n",
        "plt.show()\n"
      ],
      "metadata": {
        "id": "o58-TEIhveiU"
      },
      "execution_count": null,
      "outputs": []
    },
    {
      "cell_type": "markdown",
      "source": [
        "##### 1. Why did you pick the specific chart?"
      ],
      "metadata": {
        "id": "EXh0U9oCveiU"
      }
    },
    {
      "cell_type": "markdown",
      "source": [
        "A pair plot is ideal when you want to explore the relationship between multiple numerical features in a dataset.\n",
        "\n",
        "It allows visual inspection of pairwise correlations, linear trends, and potential outliers between Open, High, Low, and Close prices.\n",
        "\n",
        "This chart is particularly valuable in financial datasets where price attributes are often interdependent."
      ],
      "metadata": {
        "id": "eMmPjTByveiU"
      }
    },
    {
      "cell_type": "markdown",
      "source": [
        "##### 2. What is/are the insight(s) found from the chart?"
      ],
      "metadata": {
        "id": "22aHeOlLveiV"
      }
    },
    {
      "cell_type": "markdown",
      "source": [
        "The plot shows strong positive linear relationships among all price columns — especially:\n",
        "\n",
        "Open vs Close\n",
        "\n",
        "High vs Low\n",
        "\n",
        "Close vs High\n",
        "\n",
        "This confirms that Yes Bank’s daily prices are tightly correlated, as expected in stock data.\n",
        "\n",
        "The diagonal plots (histograms) also reveal the distribution of each feature, showing that:\n",
        "\n",
        "Close prices are more concentrated in a certain range,\n",
        "\n",
        "While High and Low prices show more spread, indicating variability in daily highs and lows.\n",
        "\n"
      ],
      "metadata": {
        "id": "uPQ8RGwHveiV"
      }
    },
    {
      "cell_type": "markdown",
      "source": [
        "## **5. Solution to Business Objective**"
      ],
      "metadata": {
        "id": "JcMwzZxoAimU"
      }
    },
    {
      "cell_type": "markdown",
      "source": [
        "#### What do you suggest the client to achieve Business Objective ?\n",
        "Explain Briefly."
      ],
      "metadata": {
        "id": "8G2x9gOozGDZ"
      }
    },
    {
      "cell_type": "markdown",
      "source": [
        "1. Monitor Seasonal Stock Volatility\n",
        "Insights from monthly average volatility suggest that some months experience higher price fluctuations.\n",
        "\n",
        "  Management should align communication and investor engagement strategies during high-volatility periods to maintain investor confidence.\n",
        "\n",
        "2. Focus on Bullish Momentum\n",
        "The majority of days indicate “Stock Up” sentiment (Close > Open).\n",
        "\n",
        " This positive trend can be used to:\n",
        "\n",
        " Highlight growth in investor reports.\n",
        "\n",
        " Market products like mutual funds or ETFs that include Yes Bank stock to retail investors.\n",
        "\n",
        "3. Targeted Investor Education\n",
        "Based on pair plots and correlation heatmaps, stock prices show strong internal consistency (Open, High, Low, Close are highly correlated).\n",
        "\n",
        " Use this data to educate new investors, reinforcing Yes Bank’s price behavior and reducing panic selling.\n",
        "\n",
        "4. Promote Long-Term Holding\n",
        "If short-term price swings (volatility) are high, encourage long-term holding by:\n",
        "\n",
        " Offering dividend clarity or bonus/share splits.\n",
        "\n",
        " Publishing transparent financial goals to build trust with shareholders.\n",
        "\n",
        "5. Data-Driven Marketing and Outreach\n",
        "Use regional investor trends and historical price movements to target digital campaigns.\n",
        "\n",
        " Promote Yes Bank stock via:\n",
        "\n",
        "  Investor webinars\n",
        "\n",
        "  Retail brokerage tie-ups\n",
        "\n",
        "  Finance influencer networks"
      ],
      "metadata": {
        "id": "pASKb0qOza21"
      }
    },
    {
      "cell_type": "markdown",
      "source": [
        "# **Conclusion**"
      ],
      "metadata": {
        "id": "gCX9965dhzqZ"
      }
    },
    {
      "cell_type": "markdown",
      "source": [
        "Most trading days end with a price gain, as the closing price is higher than the opening price on the majority of days, indicating overall bullish sentiment.\n",
        "\n",
        "The ‘Stock Up’ sentiment dominates with ~67.7% of days, while the remaining ~32.3% are down days, suggesting a net-positive movement trend.\n",
        "\n",
        "High correlation exists between Open, High, Low, and Close prices, showing strong consistency in daily stock movements.\n",
        "\n",
        "Price ranges (High – Low) are wider in certain months, indicating increased volatility — particularly in mid-year periods.\n",
        "\n",
        "Trading volumes and price range do not always move together, suggesting that volume surges may be driven by external events (e.g., announcements, market news) rather than just price movement.\n",
        "\n",
        "Monthly average closing price analysis reveals that some months (e.g., July and August) show consistently higher stock prices, indicating seasonal trading interest or positive market sentiment during those times.\n",
        "\n",
        "Open vs Close scatter plot shows a strong linear trend, reinforcing that daily closing prices closely follow opening trends, helpful for short-term prediction strategies.\n",
        "\n",
        "Long-term trends can be identified by grouping and analyzing monthly or quarterly averages, which assist in investment planning and portfolio timing.\n",
        "\n",
        "The data supports using simple technical indicators and trend-following strategies, as the stock exhibits structured price behavior.\n",
        "\n",
        "Overall, Yes Bank stock data provides meaningful insights that can be leveraged for trading strategy development, investor communication, and market positioning.\n",
        "\n"
      ],
      "metadata": {
        "id": "Fjb1IsQkh3yE"
      }
    },
    {
      "cell_type": "markdown",
      "source": [
        "### ***Hurrah! You have successfully completed your EDA Capstone Project !!!***"
      ],
      "metadata": {
        "id": "gIfDvo9L0UH2"
      }
    }
  ]
}